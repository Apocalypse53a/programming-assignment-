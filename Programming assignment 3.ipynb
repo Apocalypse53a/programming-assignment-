{
 "cells": [
  {
   "cell_type": "code",
   "execution_count": 1,
   "id": "cb094f66-03b7-45ae-8de1-495dbb2479cc",
   "metadata": {},
   "outputs": [
    {
     "name": "stdin",
     "output_type": "stream",
     "text": [
      "Enter your Number:  5\n"
     ]
    },
    {
     "name": "stdout",
     "output_type": "stream",
     "text": [
      "5.0 is positive number.\n"
     ]
    }
   ],
   "source": [
    "#1\n",
    "num = float(input(\"Enter your Number: \"))\n",
    "\n",
    "if num>0:\n",
    "    print(num,\"is positive number.\")\n",
    "elif num==0:\n",
    "    print(\"your number is Zero.\")\n",
    "else:\n",
    "    print(num,\"is negative number\")"
   ]
  },
  {
   "cell_type": "code",
   "execution_count": 3,
   "id": "e5b94e00-d3a5-4d0d-940c-047c01e644f6",
   "metadata": {},
   "outputs": [
    {
     "name": "stdin",
     "output_type": "stream",
     "text": [
      "Enter your Number:  53\n"
     ]
    },
    {
     "name": "stdout",
     "output_type": "stream",
     "text": [
      "Your number is odd\n"
     ]
    }
   ],
   "source": [
    "#2\n",
    "num = int(input(\"Enter your Number: \"))\n",
    "\n",
    "if num%2==0:\n",
    "    print(\"your number is even\")\n",
    "else:\n",
    "    print(\"Your number is odd\")"
   ]
  },
  {
   "cell_type": "code",
   "execution_count": 5,
   "id": "075e089c-99a5-40d7-8ac5-c9b7acfa7775",
   "metadata": {},
   "outputs": [
    {
     "name": "stdout",
     "output_type": "stream",
     "text": [
      "*****CHECK LEAP YEAR*****\n"
     ]
    },
    {
     "name": "stdin",
     "output_type": "stream",
     "text": [
      "\n",
      "Enter year: 2003\n"
     ]
    },
    {
     "name": "stdout",
     "output_type": "stream",
     "text": [
      "\n",
      "*************************\n",
      "\n",
      "2003 is not a leap year.\n",
      "\n",
      "*************************\n"
     ]
    }
   ],
   "source": [
    "#3\n",
    "print(\"*****CHECK LEAP YEAR*****\")\n",
    "year = int(input(\"\\nEnter year:\"))\n",
    "print(\"\\n*************************\\n\")\n",
    "if (year % 4 == 0 and year % 100 != 0) or (year % 400 == 0):\n",
    "    print(year,\"is a leap year.\")\n",
    "#elif year % 400 == 0:\n",
    "    #print(year,\"is a leap year.\")\n",
    "else:\n",
    "    print(year,\"is not a leap year.\")\n",
    "\n",
    "print(\"\\n*************************\")"
   ]
  },
  {
   "cell_type": "code",
   "execution_count": 29,
   "id": "02fa4b58-bd26-4488-b677-a9a610060a3b",
   "metadata": {},
   "outputs": [
    {
     "name": "stdin",
     "output_type": "stream",
     "text": [
      "\n",
      "Enter number: 53\n"
     ]
    },
    {
     "name": "stdout",
     "output_type": "stream",
     "text": [
      "\n",
      "53 is a prime Number.\n"
     ]
    }
   ],
   "source": [
    "#4\n",
    "num = int(input(\"\\nEnter number:\"))\n",
    "\n",
    "if num<=1:\n",
    "    print(num,\"is not a prime number.\")\n",
    "\n",
    "else:\n",
    "    for i in range(2,num):\n",
    "        if num % i == 0:\n",
    "            print(num,\"is not a prime number\")\n",
    "            break\n",
    "    else:\n",
    "        print()\n",
    "        print(num,\"is a prime Number.\")"
   ]
  },
  {
   "cell_type": "code",
   "execution_count": 13,
   "id": "0d277cfe-2bbc-4d4f-b518-d251068b2509",
   "metadata": {},
   "outputs": [
    {
     "name": "stdin",
     "output_type": "stream",
     "text": [
      "Enter a number:  2003\n"
     ]
    },
    {
     "name": "stdout",
     "output_type": "stream",
     "text": [
      "Prime number\n"
     ]
    }
   ],
   "source": [
    "#4 but better\n",
    "num = int(input(\"Enter a number: \"))\n",
    "\n",
    "if num <= 1:\n",
    "    print(\"Not a prime number\")\n",
    "else:\n",
    "    for i in range(2, int(num**0.5) + 1):\n",
    "        if num % i == 0:\n",
    "            print(\"Not a prime number\")\n",
    "            break\n",
    "    else:\n",
    "        print(\"Prime number\")\n"
   ]
  },
  {
   "cell_type": "code",
   "execution_count": null,
   "id": "41027bb0-8a49-4cb3-b999-376ce34b86fa",
   "metadata": {},
   "outputs": [],
   "source": [
    "#5\n",
    "for num in range(2,10001):\n",
    "    for i in range(2, int(num**0.5) + 1):\n",
    "        if num % i == 0:\n",
    "            break\n",
    "    else:\n",
    "        print(num)"
   ]
  },
  {
   "cell_type": "code",
   "execution_count": null,
   "id": "08311b6e-5eb7-4a9a-9f91-a91944cb1110",
   "metadata": {},
   "outputs": [],
   "source": []
  },
  {
   "cell_type": "code",
   "execution_count": null,
   "id": "1866bf68-ba5d-486f-bfbc-2ba456e9bc04",
   "metadata": {},
   "outputs": [],
   "source": []
  },
  {
   "cell_type": "code",
   "execution_count": null,
   "id": "747e43f1-c959-438e-a272-a295ed42a2fa",
   "metadata": {},
   "outputs": [],
   "source": []
  }
 ],
 "metadata": {
  "kernelspec": {
   "display_name": "Python [conda env:base] *",
   "language": "python",
   "name": "conda-base-py"
  },
  "language_info": {
   "codemirror_mode": {
    "name": "ipython",
    "version": 3
   },
   "file_extension": ".py",
   "mimetype": "text/x-python",
   "name": "python",
   "nbconvert_exporter": "python",
   "pygments_lexer": "ipython3",
   "version": "3.12.7"
  }
 },
 "nbformat": 4,
 "nbformat_minor": 5
}
