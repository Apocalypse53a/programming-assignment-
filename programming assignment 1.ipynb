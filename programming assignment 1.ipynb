{
 "cells": [
  {
   "cell_type": "code",
   "execution_count": null,
   "id": "99ab2d8d-da7f-4434-a3c3-7c52d6d14a76",
   "metadata": {},
   "outputs": [],
   "source": [
    "#1\n",
    "print(\"Hello World!\")"
   ]
  },
  {
   "cell_type": "code",
   "execution_count": null,
   "id": "fc97bcfd-940c-453a-a08c-be80b11eb816",
   "metadata": {},
   "outputs": [],
   "source": [
    "#2 \n",
    "num1 = float(input(\"Type your no1: \"))\n",
    "num2 = float(input(\"Type your no2: \"))\n",
    "\n",
    "print(\"Addition = \",num1 + num2)\n",
    "print(\"Subtraction = \",num1 - num2)\n",
    "print(\"Multiplication = \",num1 * num2)\n",
    "\n",
    "if num2 != 0:\n",
    "    print(\"Division = \",num1 / num2)\n",
    "\n",
    "else:\n",
    "    print(\"Division = 'No number caannot be divided by Zero.''\")"
   ]
  },
  {
   "cell_type": "code",
   "execution_count": null,
   "id": "297098ae-22a6-4efc-a89d-bad8a1f4d85e",
   "metadata": {},
   "outputs": [],
   "source": [
    "#3 \n",
    "length = float(input(\"Insert Length : \"))\n",
    "width = float(input(\"Insert Width : \"))\n",
    "\n",
    "AreaOfTriangle = (length*width)/2\n",
    "print(\"Area of Triangle is \",AreaOfTriangle)"
   ]
  },
  {
   "cell_type": "code",
   "execution_count": null,
   "id": "a1a39ab9-4b1d-4b54-8d08-16fe494b2400",
   "metadata": {},
   "outputs": [],
   "source": [
    "#4\n",
    "a = 5\n",
    "b = 10\n",
    "\n",
    "temp = a\n",
    "a = b\n",
    "b = temp\n",
    "#a = a + b\n",
    "#b = a - b\n",
    "#a = a - b\n",
    "\n",
    "print(\"a =\", a)\n",
    "print(\"b =\", b)\n"
   ]
  },
  {
   "cell_type": "code",
   "execution_count": null,
   "id": "f53ae3c2-6440-4322-b74e-f1cdbde22aed",
   "metadata": {},
   "outputs": [],
   "source": [
    "#5\n",
    "import random\n",
    "\n",
    "# Generate a random number between 1 and 100\n",
    "random_number = random.randint(1, 100)\n",
    "\n",
    "# Print it to console\n",
    "print(\"Random number generated:\", random_number)\n",
    "\n"
   ]
  },
  {
   "cell_type": "code",
   "execution_count": null,
   "id": "ece19017-d04d-4bdd-b24b-6912e0e5fd32",
   "metadata": {},
   "outputs": [],
   "source": []
  }
 ],
 "metadata": {
  "kernelspec": {
   "display_name": "Python [conda env:base] *",
   "language": "python",
   "name": "conda-base-py"
  },
  "language_info": {
   "codemirror_mode": {
    "name": "ipython",
    "version": 3
   },
   "file_extension": ".py",
   "mimetype": "text/x-python",
   "name": "python",
   "nbconvert_exporter": "python",
   "pygments_lexer": "ipython3",
   "version": "3.12.7"
  }
 },
 "nbformat": 4,
 "nbformat_minor": 5
}
