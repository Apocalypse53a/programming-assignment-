{
 "cells": [
  {
   "cell_type": "code",
   "execution_count": 1,
   "id": "d5e65133-71f4-4ca1-9b50-79551d33c587",
   "metadata": {},
   "outputs": [
    {
     "name": "stdin",
     "output_type": "stream",
     "text": [
      "Enter Kilometer :  3\n"
     ]
    },
    {
     "name": "stdout",
     "output_type": "stream",
     "text": [
      "Miles = 1.8645121193287757\n"
     ]
    }
   ],
   "source": [
    "#1\n",
    "km = float(input(\"Enter Kilometer : \"))\n",
    "\n",
    "mile = float(km/1.609)\n",
    "print(\"Miles =\",mile)"
   ]
  },
  {
   "cell_type": "code",
   "execution_count": 5,
   "id": "0381d2c3-2044-4390-b402-5cd7df6e249c",
   "metadata": {},
   "outputs": [
    {
     "name": "stdin",
     "output_type": "stream",
     "text": [
      "Enter celcius:  37\n"
     ]
    },
    {
     "name": "stdout",
     "output_type": "stream",
     "text": [
      "Farenheit =  98.60000000000001\n"
     ]
    }
   ],
   "source": [
    "#2\n",
    "C = float(input(\"Enter celcius: \"))\n",
    "\n",
    "F= (C*1.8)+32\n",
    "\n",
    "print(\"Farenheit = \",F)"
   ]
  },
  {
   "cell_type": "code",
   "execution_count": 25,
   "id": "3cbf19b8-0d3c-4125-be81-7f328c3b3af3",
   "metadata": {},
   "outputs": [
    {
     "name": "stdin",
     "output_type": "stream",
     "text": [
      "search year:  2025\n"
     ]
    },
    {
     "name": "stdout",
     "output_type": "stream",
     "text": [
      "                                  2025\n",
      "\n",
      "      January                   February                   March\n",
      "Mo Tu We Th Fr Sa Su      Mo Tu We Th Fr Sa Su      Mo Tu We Th Fr Sa Su\n",
      "       1  2  3  4  5                      1  2                      1  2\n",
      " 6  7  8  9 10 11 12       3  4  5  6  7  8  9       3  4  5  6  7  8  9\n",
      "13 14 15 16 17 18 19      10 11 12 13 14 15 16      10 11 12 13 14 15 16\n",
      "20 21 22 23 24 25 26      17 18 19 20 21 22 23      17 18 19 20 21 22 23\n",
      "27 28 29 30 31            24 25 26 27 28            24 25 26 27 28 29 30\n",
      "                                                    31\n",
      "\n",
      "       April                      May                       June\n",
      "Mo Tu We Th Fr Sa Su      Mo Tu We Th Fr Sa Su      Mo Tu We Th Fr Sa Su\n",
      "    1  2  3  4  5  6                1  2  3  4                         1\n",
      " 7  8  9 10 11 12 13       5  6  7  8  9 10 11       2  3  4  5  6  7  8\n",
      "14 15 16 17 18 19 20      12 13 14 15 16 17 18       9 10 11 12 13 14 15\n",
      "21 22 23 24 25 26 27      19 20 21 22 23 24 25      16 17 18 19 20 21 22\n",
      "28 29 30                  26 27 28 29 30 31         23 24 25 26 27 28 29\n",
      "                                                    30\n",
      "\n",
      "        July                     August                  September\n",
      "Mo Tu We Th Fr Sa Su      Mo Tu We Th Fr Sa Su      Mo Tu We Th Fr Sa Su\n",
      "    1  2  3  4  5  6                   1  2  3       1  2  3  4  5  6  7\n",
      " 7  8  9 10 11 12 13       4  5  6  7  8  9 10       8  9 10 11 12 13 14\n",
      "14 15 16 17 18 19 20      11 12 13 14 15 16 17      15 16 17 18 19 20 21\n",
      "21 22 23 24 25 26 27      18 19 20 21 22 23 24      22 23 24 25 26 27 28\n",
      "28 29 30 31               25 26 27 28 29 30 31      29 30\n",
      "\n",
      "      October                   November                  December\n",
      "Mo Tu We Th Fr Sa Su      Mo Tu We Th Fr Sa Su      Mo Tu We Th Fr Sa Su\n",
      "       1  2  3  4  5                      1  2       1  2  3  4  5  6  7\n",
      " 6  7  8  9 10 11 12       3  4  5  6  7  8  9       8  9 10 11 12 13 14\n",
      "13 14 15 16 17 18 19      10 11 12 13 14 15 16      15 16 17 18 19 20 21\n",
      "20 21 22 23 24 25 26      17 18 19 20 21 22 23      22 23 24 25 26 27 28\n",
      "27 28 29 30 31            24 25 26 27 28 29 30      29 30 31\n",
      "\n"
     ]
    }
   ],
   "source": [
    "#3\n",
    "import calendar\n",
    "\n",
    "year = int(input(\"search year: \"))\n",
    "print(calendar.calendar(year))\n"
   ]
  },
  {
   "cell_type": "code",
   "execution_count": 32,
   "id": "bcecbd58-13eb-42d7-ad25-803851916b08",
   "metadata": {},
   "outputs": [
    {
     "name": "stdin",
     "output_type": "stream",
     "text": [
      "Enter A:  1\n",
      "Enter B:  -2\n",
      "Enter C:  5\n"
     ]
    },
    {
     "name": "stdout",
     "output_type": "stream",
     "text": [
      "Complex roots: 1.0+2.0i and 1.0-2.0i\n"
     ]
    }
   ],
   "source": [
    "#4\n",
    "a = float(input(\"Enter A: \"))\n",
    "b = float(input(\"Enter B: \"))\n",
    "c = float(input(\"Enter C: \"))\n",
    "\n",
    "d = float(b**2 - 4*a*c)\n",
    "\n",
    "if d>0:\n",
    "    r1= (-b + (d)**0.5)/(2*a)\n",
    "    r2= (-b - (d)**0.5)/(2*a)\n",
    "    print(\"Roots are real and different.\")\n",
    "    print(\"Root 1 =\", r1)\n",
    "    print(\"Root 2 =\", r2)\n",
    "elif d == 0:\n",
    "    r = -b / (2*a)\n",
    "    print(\"Roots are real and same.\")\n",
    "    print(\"Root =\", r)\n",
    "else:\n",
    "    real = -b / (2*a)\n",
    "    imag = float((-d)**0.5 / (2*a))\n",
    "    print(\"Complex roots:\", f\"{real}+{imag}i and {real}-{imag}i\")"
   ]
  },
  {
   "cell_type": "code",
   "execution_count": 45,
   "id": "04b42ff0-f17f-4a3d-b830-b5b86696ebbe",
   "metadata": {},
   "outputs": [
    {
     "name": "stdout",
     "output_type": "stream",
     "text": [
      "********************\n"
     ]
    },
    {
     "name": "stdin",
     "output_type": "stream",
     "text": [
      "Enter A: 25\n"
     ]
    },
    {
     "name": "stdout",
     "output_type": "stream",
     "text": [
      "********************\n"
     ]
    },
    {
     "name": "stdin",
     "output_type": "stream",
     "text": [
      "Enter B: 35\n"
     ]
    },
    {
     "name": "stdout",
     "output_type": "stream",
     "text": [
      "********************\n",
      "VARIABLE SWAPPED\n",
      "A = 35.0\n",
      "B = 25.0\n",
      "********************\n"
     ]
    }
   ],
   "source": [
    "#5\n",
    "print(\"********************\")\n",
    "a = float(input(\"Enter A:\"))\n",
    "print(\"********************\")\n",
    "b = float(input(\"Enter B:\"))\n",
    "\n",
    "a = a + b\n",
    "b = a - b\n",
    "a = a - b\n",
    "print(\"********************\")\n",
    "print(\"VARIABLE SWAPPED\")\n",
    "print(\"A =\", a)\n",
    "print(\"B =\", b)\n",
    "print(\"********************\")\n"
   ]
  },
  {
   "cell_type": "code",
   "execution_count": null,
   "id": "0b701acc-87b6-40f5-9448-fd3b383a0a96",
   "metadata": {},
   "outputs": [],
   "source": []
  },
  {
   "cell_type": "code",
   "execution_count": null,
   "id": "ecaf8e47-c2ae-4877-8ff0-607907f8d430",
   "metadata": {},
   "outputs": [],
   "source": []
  },
  {
   "cell_type": "code",
   "execution_count": null,
   "id": "40465c18-1249-4bf3-b794-13b46e7a6cd9",
   "metadata": {},
   "outputs": [],
   "source": []
  },
  {
   "cell_type": "code",
   "execution_count": null,
   "id": "5fcac8ec-47df-46b1-b91a-281b1a617bd0",
   "metadata": {},
   "outputs": [],
   "source": []
  },
  {
   "cell_type": "code",
   "execution_count": null,
   "id": "265f2885-aad7-4225-8a7b-f84a6a66a3e4",
   "metadata": {},
   "outputs": [],
   "source": []
  }
 ],
 "metadata": {
  "kernelspec": {
   "display_name": "Python [conda env:base] *",
   "language": "python",
   "name": "conda-base-py"
  },
  "language_info": {
   "codemirror_mode": {
    "name": "ipython",
    "version": 3
   },
   "file_extension": ".py",
   "mimetype": "text/x-python",
   "name": "python",
   "nbconvert_exporter": "python",
   "pygments_lexer": "ipython3",
   "version": "3.12.7"
  }
 },
 "nbformat": 4,
 "nbformat_minor": 5
}
